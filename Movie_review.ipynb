{
 "cells": [
  {
   "cell_type": "code",
   "execution_count": 1,
   "metadata": {},
   "outputs": [],
   "source": [
    "import tensorflow as tf\n",
    "from tensorflow import keras\n",
    "import numpy as np"
   ]
  },
  {
   "cell_type": "code",
   "execution_count": 2,
   "metadata": {},
   "outputs": [],
   "source": [
    "data = keras.datasets.imdb"
   ]
  },
  {
   "cell_type": "code",
   "execution_count": 3,
   "metadata": {},
   "outputs": [
    {
     "name": "stderr",
     "output_type": "stream",
     "text": [
      "D:\\Data Science\\Anaconda\\envs\\akram\\lib\\site-packages\\tensorflow\\python\\keras\\datasets\\imdb.py:155: VisibleDeprecationWarning: Creating an ndarray from ragged nested sequences (which is a list-or-tuple of lists-or-tuples-or ndarrays with different lengths or shapes) is deprecated. If you meant to do this, you must specify 'dtype=object' when creating the ndarray\n",
      "  x_train, y_train = np.array(xs[:idx]), np.array(labels[:idx])\n",
      "D:\\Data Science\\Anaconda\\envs\\akram\\lib\\site-packages\\tensorflow\\python\\keras\\datasets\\imdb.py:156: VisibleDeprecationWarning: Creating an ndarray from ragged nested sequences (which is a list-or-tuple of lists-or-tuples-or ndarrays with different lengths or shapes) is deprecated. If you meant to do this, you must specify 'dtype=object' when creating the ndarray\n",
      "  x_test, y_test = np.array(xs[idx:]), np.array(labels[idx:])\n"
     ]
    }
   ],
   "source": [
    "(train_data, train_labels), (test_data, test_labels) = data.load_data(num_words = 88000)"
   ]
  },
  {
   "cell_type": "code",
   "execution_count": 4,
   "metadata": {},
   "outputs": [
    {
     "name": "stdout",
     "output_type": "stream",
     "text": [
      "[1, 14, 22, 16, 43, 530, 973, 1622, 1385, 65, 458, 4468, 66, 3941, 4, 173, 36, 256, 5, 25, 100, 43, 838, 112, 50, 670, 22665, 9, 35, 480, 284, 5, 150, 4, 172, 112, 167, 21631, 336, 385, 39, 4, 172, 4536, 1111, 17, 546, 38, 13, 447, 4, 192, 50, 16, 6, 147, 2025, 19, 14, 22, 4, 1920, 4613, 469, 4, 22, 71, 87, 12, 16, 43, 530, 38, 76, 15, 13, 1247, 4, 22, 17, 515, 17, 12, 16, 626, 18, 19193, 5, 62, 386, 12, 8, 316, 8, 106, 5, 4, 2223, 5244, 16, 480, 66, 3785, 33, 4, 130, 12, 16, 38, 619, 5, 25, 124, 51, 36, 135, 48, 25, 1415, 33, 6, 22, 12, 215, 28, 77, 52, 5, 14, 407, 16, 82, 10311, 8, 4, 107, 117, 5952, 15, 256, 4, 31050, 7, 3766, 5, 723, 36, 71, 43, 530, 476, 26, 400, 317, 46, 7, 4, 12118, 1029, 13, 104, 88, 4, 381, 15, 297, 98, 32, 2071, 56, 26, 141, 6, 194, 7486, 18, 4, 226, 22, 21, 134, 476, 26, 480, 5, 144, 30, 5535, 18, 51, 36, 28, 224, 92, 25, 104, 4, 226, 65, 16, 38, 1334, 88, 12, 16, 283, 5, 16, 4472, 113, 103, 32, 15, 16, 5345, 19, 178, 32]\n"
     ]
    }
   ],
   "source": [
    "print(train_data[0])"
   ]
  },
  {
   "cell_type": "markdown",
   "metadata": {},
   "source": [
    "# Making the data for human readability"
   ]
  },
  {
   "cell_type": "code",
   "execution_count": 5,
   "metadata": {},
   "outputs": [],
   "source": [
    "word_index = data.get_word_index()\n",
    "word_index = {k:(v+3) for k,v in word_index.items()}\n",
    "word_index[\"<PAD>\"] = 0\n",
    "word_index[\"<START>\"] = 1\n",
    "word_index[\"<UNK>\"] = 2\n",
    "word_index[\"<UNUSED>\"] = 3"
   ]
  },
  {
   "cell_type": "markdown",
   "metadata": {},
   "source": [
    "# Preprocessing the data"
   ]
  },
  {
   "cell_type": "code",
   "execution_count": 6,
   "metadata": {},
   "outputs": [],
   "source": [
    "reverse_word_index = dict([(value, key) for (key, value) in word_index.items()])\n",
    "\n",
    "train_data = keras.preprocessing.sequence.pad_sequences(train_data, value = word_index[\"<PAD>\"], padding = \"post\", maxlen = 250)\n",
    "test_data = keras.preprocessing.sequence.pad_sequences(test_data, value = word_index[\"<PAD>\"], padding = \"post\", maxlen = 250)\n",
    "\n",
    "def decode_review(text):\n",
    "    return \" \".join(reverse_word_index.get(i, \"?\") for i in text)"
   ]
  },
  {
   "cell_type": "code",
   "execution_count": 7,
   "metadata": {},
   "outputs": [
    {
     "name": "stdout",
     "output_type": "stream",
     "text": [
      "<START> this film was just brilliant casting location scenery story direction everyone's really suited the part they played and you could just imagine being there robert redford's is an amazing actor and now the same being director norman's father came from the same scottish island as myself so i loved the fact there was a real connection with this film the witty remarks throughout the film were great it was just brilliant so much that i bought the film as soon as it was released for retail and would recommend it to everyone to watch and the fly fishing was amazing really cried at the end it was so sad and you know what they say if you cry at a film it must have been good and this definitely was also congratulations to the two little boy's that played the part's of norman and paul they were just brilliant children are often left out of the praising list i think because the stars that play them all grown up are such a big profile for the whole film but these children are amazing and should be praised for what they have done don't you think the whole story was so lovely because it was true and was someone's life after all that was shared with us all <PAD> <PAD> <PAD> <PAD> <PAD> <PAD> <PAD> <PAD> <PAD> <PAD> <PAD> <PAD> <PAD> <PAD> <PAD> <PAD> <PAD> <PAD> <PAD> <PAD> <PAD> <PAD> <PAD> <PAD> <PAD> <PAD> <PAD> <PAD> <PAD> <PAD> <PAD> <PAD>\n"
     ]
    }
   ],
   "source": [
    "print(decode_review(train_data[0]))"
   ]
  },
  {
   "cell_type": "code",
   "execution_count": 8,
   "metadata": {},
   "outputs": [
    {
     "name": "stdout",
     "output_type": "stream",
     "text": [
      "250 250\n"
     ]
    }
   ],
   "source": [
    "print(len(train_data[0]), len(test_data[0]))"
   ]
  },
  {
   "cell_type": "markdown",
   "metadata": {},
   "source": [
    "# Defining the model"
   ]
  },
  {
   "cell_type": "code",
   "execution_count": 9,
   "metadata": {},
   "outputs": [],
   "source": [
    "model = keras.Sequential()\n",
    "model.add(keras.layers.Embedding(88000, 16))\n",
    "model.add(keras.layers.GlobalAveragePooling1D())\n",
    "model.add(keras.layers.Dense(16, activation = \"relu\"))\n",
    "model.add(keras.layers.Dense(1, activation = \"sigmoid\"))"
   ]
  },
  {
   "cell_type": "code",
   "execution_count": 10,
   "metadata": {},
   "outputs": [
    {
     "name": "stdout",
     "output_type": "stream",
     "text": [
      "Model: \"sequential\"\n",
      "_________________________________________________________________\n",
      "Layer (type)                 Output Shape              Param #   \n",
      "=================================================================\n",
      "embedding (Embedding)        (None, None, 16)          1408000   \n",
      "_________________________________________________________________\n",
      "global_average_pooling1d (Gl (None, 16)                0         \n",
      "_________________________________________________________________\n",
      "dense (Dense)                (None, 16)                272       \n",
      "_________________________________________________________________\n",
      "dense_1 (Dense)              (None, 1)                 17        \n",
      "=================================================================\n",
      "Total params: 1,408,289\n",
      "Trainable params: 1,408,289\n",
      "Non-trainable params: 0\n",
      "_________________________________________________________________\n"
     ]
    }
   ],
   "source": [
    "model.summary()"
   ]
  },
  {
   "cell_type": "code",
   "execution_count": 11,
   "metadata": {},
   "outputs": [],
   "source": [
    "model.compile(optimizer='adam',\n",
    "              loss='binary_crossentropy',\n",
    "              metrics=['accuracy'])"
   ]
  },
  {
   "cell_type": "code",
   "execution_count": 12,
   "metadata": {},
   "outputs": [],
   "source": [
    "x_val = train_data[ : 10000]\n",
    "x_train = train_data[10000 : ]\n",
    "\n",
    "y_val = train_labels[ : 10000]\n",
    "y_train = train_labels[10000 : ]"
   ]
  },
  {
   "cell_type": "markdown",
   "metadata": {},
   "source": [
    "# Training the model"
   ]
  },
  {
   "cell_type": "code",
   "execution_count": 13,
   "metadata": {},
   "outputs": [
    {
     "name": "stdout",
     "output_type": "stream",
     "text": [
      "Epoch 1/40\n",
      "30/30 [==============================] - 1s 48ms/step - loss: 0.6925 - accuracy: 0.5569 - val_loss: 0.6912 - val_accuracy: 0.7095\n",
      "Epoch 2/40\n",
      "30/30 [==============================] - 1s 41ms/step - loss: 0.6887 - accuracy: 0.7377 - val_loss: 0.6854 - val_accuracy: 0.7339\n",
      "Epoch 3/40\n",
      "30/30 [==============================] - 1s 39ms/step - loss: 0.6789 - accuracy: 0.7336 - val_loss: 0.6722 - val_accuracy: 0.7432\n",
      "Epoch 4/40\n",
      "30/30 [==============================] - 1s 39ms/step - loss: 0.6585 - accuracy: 0.7635 - val_loss: 0.6480 - val_accuracy: 0.7766\n",
      "Epoch 5/40\n",
      "30/30 [==============================] - 1s 39ms/step - loss: 0.6253 - accuracy: 0.7949 - val_loss: 0.6133 - val_accuracy: 0.7928\n",
      "Epoch 6/40\n",
      "30/30 [==============================] - 1s 39ms/step - loss: 0.5810 - accuracy: 0.8203 - val_loss: 0.5717 - val_accuracy: 0.8088\n",
      "Epoch 7/40\n",
      "30/30 [==============================] - 1s 39ms/step - loss: 0.5298 - accuracy: 0.8436 - val_loss: 0.5260 - val_accuracy: 0.8196\n",
      "Epoch 8/40\n",
      "30/30 [==============================] - 1s 39ms/step - loss: 0.4763 - accuracy: 0.8625 - val_loss: 0.4818 - val_accuracy: 0.8348\n",
      "Epoch 9/40\n",
      "30/30 [==============================] - 1s 45ms/step - loss: 0.4250 - accuracy: 0.8786 - val_loss: 0.4421 - val_accuracy: 0.8461\n",
      "Epoch 10/40\n",
      "30/30 [==============================] - 1s 42ms/step - loss: 0.3787 - accuracy: 0.8921 - val_loss: 0.4085 - val_accuracy: 0.8553\n",
      "Epoch 11/40\n",
      "30/30 [==============================] - 1s 43ms/step - loss: 0.3390 - accuracy: 0.9009 - val_loss: 0.3818 - val_accuracy: 0.8588\n",
      "Epoch 12/40\n",
      "30/30 [==============================] - 1s 46ms/step - loss: 0.3039 - accuracy: 0.9102 - val_loss: 0.3582 - val_accuracy: 0.8665\n",
      "Epoch 13/40\n",
      "30/30 [==============================] - 1s 44ms/step - loss: 0.2742 - accuracy: 0.9187 - val_loss: 0.3399 - val_accuracy: 0.8724\n",
      "Epoch 14/40\n",
      "30/30 [==============================] - 1s 39ms/step - loss: 0.2486 - accuracy: 0.9259 - val_loss: 0.3255 - val_accuracy: 0.8757\n",
      "Epoch 15/40\n",
      "30/30 [==============================] - 1s 40ms/step - loss: 0.2263 - accuracy: 0.9327 - val_loss: 0.3140 - val_accuracy: 0.8788\n",
      "Epoch 16/40\n",
      "30/30 [==============================] - 1s 41ms/step - loss: 0.2074 - accuracy: 0.9388 - val_loss: 0.3048 - val_accuracy: 0.8802\n",
      "Epoch 17/40\n",
      "30/30 [==============================] - 1s 41ms/step - loss: 0.1894 - accuracy: 0.9453 - val_loss: 0.2974 - val_accuracy: 0.8821\n",
      "Epoch 18/40\n",
      "30/30 [==============================] - 1s 41ms/step - loss: 0.1740 - accuracy: 0.9499 - val_loss: 0.2918 - val_accuracy: 0.8828\n",
      "Epoch 19/40\n",
      "30/30 [==============================] - 1s 41ms/step - loss: 0.1600 - accuracy: 0.9547 - val_loss: 0.2867 - val_accuracy: 0.8849\n",
      "Epoch 20/40\n",
      "30/30 [==============================] - 1s 44ms/step - loss: 0.1473 - accuracy: 0.9611 - val_loss: 0.2831 - val_accuracy: 0.8868\n",
      "Epoch 21/40\n",
      "30/30 [==============================] - 1s 41ms/step - loss: 0.1365 - accuracy: 0.9635 - val_loss: 0.2809 - val_accuracy: 0.8868\n",
      "Epoch 22/40\n",
      "30/30 [==============================] - 1s 39ms/step - loss: 0.1257 - accuracy: 0.9682 - val_loss: 0.2786 - val_accuracy: 0.8865\n",
      "Epoch 23/40\n",
      "30/30 [==============================] - 1s 39ms/step - loss: 0.1160 - accuracy: 0.9721 - val_loss: 0.2772 - val_accuracy: 0.8857\n",
      "Epoch 24/40\n",
      "30/30 [==============================] - 1s 40ms/step - loss: 0.1075 - accuracy: 0.9744 - val_loss: 0.2763 - val_accuracy: 0.8874\n",
      "Epoch 25/40\n",
      "30/30 [==============================] - 1s 40ms/step - loss: 0.0999 - accuracy: 0.9774 - val_loss: 0.2762 - val_accuracy: 0.8875\n",
      "Epoch 26/40\n",
      "30/30 [==============================] - 1s 44ms/step - loss: 0.0927 - accuracy: 0.9803 - val_loss: 0.2760 - val_accuracy: 0.8884\n",
      "Epoch 27/40\n",
      "30/30 [==============================] - 1s 40ms/step - loss: 0.0861 - accuracy: 0.9819 - val_loss: 0.2773 - val_accuracy: 0.8879\n",
      "Epoch 28/40\n",
      "30/30 [==============================] - 1s 40ms/step - loss: 0.0801 - accuracy: 0.9841 - val_loss: 0.2785 - val_accuracy: 0.8879\n",
      "Epoch 29/40\n",
      "30/30 [==============================] - 1s 41ms/step - loss: 0.0746 - accuracy: 0.9859 - val_loss: 0.2789 - val_accuracy: 0.8887\n",
      "Epoch 30/40\n",
      "30/30 [==============================] - 1s 43ms/step - loss: 0.0696 - accuracy: 0.9872 - val_loss: 0.2805 - val_accuracy: 0.8888\n",
      "Epoch 31/40\n",
      "30/30 [==============================] - 1s 41ms/step - loss: 0.0647 - accuracy: 0.9883 - val_loss: 0.2846 - val_accuracy: 0.8877\n",
      "Epoch 32/40\n",
      "30/30 [==============================] - 1s 43ms/step - loss: 0.0606 - accuracy: 0.9890 - val_loss: 0.2840 - val_accuracy: 0.8889\n",
      "Epoch 33/40\n",
      "30/30 [==============================] - 1s 43ms/step - loss: 0.0568 - accuracy: 0.9903 - val_loss: 0.2856 - val_accuracy: 0.8884\n",
      "Epoch 34/40\n",
      "30/30 [==============================] - 1s 42ms/step - loss: 0.0531 - accuracy: 0.9913 - val_loss: 0.2899 - val_accuracy: 0.8870\n",
      "Epoch 35/40\n",
      "30/30 [==============================] - 1s 40ms/step - loss: 0.0496 - accuracy: 0.9921 - val_loss: 0.2926 - val_accuracy: 0.8865\n",
      "Epoch 36/40\n",
      "30/30 [==============================] - 1s 39ms/step - loss: 0.0466 - accuracy: 0.9929 - val_loss: 0.2938 - val_accuracy: 0.8871\n",
      "Epoch 37/40\n",
      "30/30 [==============================] - 1s 39ms/step - loss: 0.0434 - accuracy: 0.9938 - val_loss: 0.2966 - val_accuracy: 0.8865\n",
      "Epoch 38/40\n",
      "30/30 [==============================] - 1s 39ms/step - loss: 0.0408 - accuracy: 0.9940 - val_loss: 0.2979 - val_accuracy: 0.8874\n",
      "Epoch 39/40\n",
      "30/30 [==============================] - 1s 38ms/step - loss: 0.0382 - accuracy: 0.9945 - val_loss: 0.3037 - val_accuracy: 0.8850\n",
      "Epoch 40/40\n",
      "30/30 [==============================] - 1s 39ms/step - loss: 0.0359 - accuracy: 0.9949 - val_loss: 0.3038 - val_accuracy: 0.8862\n"
     ]
    }
   ],
   "source": [
    "fitModel = model.fit(x_train, y_train, epochs=40, batch_size=512, validation_data=(x_val, y_val), verbose=1)"
   ]
  },
  {
   "cell_type": "code",
   "execution_count": 14,
   "metadata": {},
   "outputs": [
    {
     "name": "stdout",
     "output_type": "stream",
     "text": [
      "782/782 [==============================] - 2s 3ms/step - loss: 0.3381 - accuracy: 0.8723\n"
     ]
    }
   ],
   "source": [
    "results = model.evaluate(test_data, test_labels)"
   ]
  },
  {
   "cell_type": "code",
   "execution_count": 15,
   "metadata": {},
   "outputs": [
    {
     "name": "stdout",
     "output_type": "stream",
     "text": [
      "[0.33805030584335327, 0.8723199963569641]\n"
     ]
    }
   ],
   "source": [
    "print(results)"
   ]
  },
  {
   "cell_type": "code",
   "execution_count": null,
   "metadata": {},
   "outputs": [],
   "source": [
    "#test_review = test_data[0]\n",
    "#predict = model.predict([test_review])\n",
    "#print(\"Review: \")\n",
    "#print(decode_review(test_review))\n",
    "#print(\"Prediction: \" + str(predict[0]))\n",
    "#print(\"Actual: \" + str(test_labels[0]))"
   ]
  },
  {
   "cell_type": "code",
   "execution_count": 16,
   "metadata": {},
   "outputs": [],
   "source": [
    "model.save(\"movie_review.h5\")"
   ]
  },
  {
   "cell_type": "code",
   "execution_count": 17,
   "metadata": {},
   "outputs": [],
   "source": [
    "new_model = keras.models.load_model(\"movie_review.h5\")"
   ]
  },
  {
   "cell_type": "markdown",
   "metadata": {},
   "source": [
    "# Testing with outside data"
   ]
  },
  {
   "cell_type": "code",
   "execution_count": 19,
   "metadata": {},
   "outputs": [],
   "source": [
    "def review_encode(string):\n",
    "    encoded = [1]\n",
    "    for word in string:\n",
    "        if word.lower() in word_index:\n",
    "            encoded.append(word_index[word.lower()])\n",
    "        else:\n",
    "            encoded.append(2)\n",
    "    return encoded"
   ]
  },
  {
   "cell_type": "code",
   "execution_count": 26,
   "metadata": {},
   "outputs": [
    {
     "name": "stdout",
     "output_type": "stream",
     "text": [
      "Of all the animation classics from the Walt Disney Company, there is perhaps none that is more celebrated than \"The Lion King.\" Its acclaim is understandable: this is quite simply a glorious work of art.\"The Lion King\" gets off to a fantastic start. The film's opening number, \"The Circle of Life,\" is outstanding. The song lasts for about four minutes, but from the first sound, the audience is floored. Not even National Geographic can capture something this beautiful and dramatic. Not only is this easily the greatest moment in film animation, this is one of the greatest sequences in film history.The story that follows is not as majestic, but the film has to tell a story. Actually, the rest of the film holds up quite well. The story takes place in Africa, where the lions rule. Their king, Mufasa (James Earl Jones) has just been blessed with a son, Simba (Jonathan Taylor Thomas), who goes in front of his uncle Scar (Jeremy Irons) as next in line for the throne. Scar is furious, and sets in motion plans to usurp the throne for himself. After a tragedy occurs and Mufasa is killed, Scar persuades Simba to flee, leaving himself as king. Simba grows up in exile, but he learns that while he can run away from his past, he can never escape it.When viewing the film, it is obvious that \"The Lion King\" is quite different from its predecessors (and successors). This is an epic story that contains more dramatic power than all the other Disney films combined. While there are definitely some light-hearted moments, there is no denying the dark drama that takes up the bulk of the story. While it could be argued that Disney is the champion of family entertainment, this film is not for the very young. Some of the sequences are very dark and violent, many bordering on frightening, even for the older crowd.The voice actors are terrific. Jonathan Taylor Thomas brings a large dose of innocence to Young Simba. He's mischievous, but also terribly naive. His older counterpart, voiced by Matthew Broderick, equals him. He's older, but no less mature. The voices are so similar that it's almost impossible not to believe that they are the same character at different ages. Perhaps no one could have been better suited for the role of Mufasa than James Earl Jones. His baritone voice gives the Mufasa a quality of great power and wisdom; there is no question that his role is king. As Scar, Jeremy Irons is pitch-perfect. The drawing of the character is villainous, but Irons' vocal work complements the animation to create one of the most memorable, and vicious, villains in Disney history. He's unquestionably evil, but he's also clever, which makes him all the more dangerous. Manipulation, not violence is his greatest weapon. Providing some much needed comic relief are Nathan Lane and Ernie Sabella as Timon and Pumbaa, two other outcasts (a meerkat and a warthog), and Rowan Atkinson as Zazu. While there is definite fun from these characters, neither the actors nor the filmmakers allow them to go over-the-top and destroy the mood of the film.Disney's animated features are known for their gorgeous artwork. Nowhere is this more apparent than in \"The Lion King.\" Every single frame is jaw-dropping. The colors are rich, and the drawings are sharp and beautiful. One of the pitfalls of animation (both computer and hand-drawn) is that there is sometimes a visible distance between the subject and the background, making it seem as if the figure animation was cut and pasted on the background (this is obviously what happens, but it is up to the artists to make sure that it isn't noticeable). There is none of that here.Throughout the Golden Age of Disney animation, the films have been musicals. \"The Lion King\" is no different, and the songs are brilliant. All of the numbers are standouts (\"Can You Feel the Love Tonight\" won the Oscar, but in my opinion, \"The Circle of Life\" was better). In the cases of Simba and Nala (Simba's girlfriend), both young and old, there is a noticeable difference between the speaking and singing parts (everyone else does their own singing and speaking), but never mind. It still works, and that's what's important.\"The Lion King\" is not flawless, but on first viewing, they aren't noticeable, and it is likely that the young won't ever notice them. \"Beauty and the Beast\" was the first animated film to get an Oscar nomination for Best Picture (it lost to \"The Silence of the Lambs\"), and is thus far the only animated film to receive such an honor. That being the case, it's hard to understand why \"The Lion King\" was not given the same distinction. The two films are more or less equal in quality, and the nominees for the honor that year were not strong.If you haven't already, see \"The Lion King.\" You won't be disappointed.\n",
      "[[  518     6  4687  3744   200     4   875     5     4   978   231    12\n",
      "    306    17    48     4   822   748    16   605     5 12625    23     4\n",
      "    978    14     9   540    51   571    21    12     9    56     8     4\n",
      "   2719     8    97   252    15    12   218  6456    50     9   600     7\n",
      "     15     2     4  2050   559     7   910   748     4   108    28    77\n",
      "   2769     4  3082   711     9    57   275     5     4   690    26   530\n",
      "     32     7     4  1396    26 16015    70    25   235     4   119  4487\n",
      "   1199     4   735    21    11    61   652     4  4246     7   113    16\n",
      "    128    11     4  2936     7 10539     5 35738 20403   980   199   185\n",
      "      5   154    50     9     6  6456  1474   200     4  1386     5  1118\n",
      "    531   316   334   127    68   205  1118     5  1386    21   115   330\n",
      "     12   131   495     5   198   803     2  3082   711     9    24  3562\n",
      "     21    23    86   829    36   713  6456     5    12     9  1329    15\n",
      "      4   185   528   126  1495    98   936     5     4  2773    16     4\n",
      "     86  1125    22     8    79    35   735  4372    18   118   431    12\n",
      "    416     8     4  3542     7     4 10721     5     9  1346   230     4\n",
      "     64  1125    22     8  3911   141    35  2898    15   112     4   420\n",
      "     45   254     8   391   138     4  3082   711    16    24   348     4\n",
      "    172  8076     4   107   108    26    53    42   329  3215    11   489\n",
      "      5     4 13341    18     4  2898    15   291    71    24     2    25\n",
      "    774   460    67     4  3082   711    25   528    30   685]]\n",
      "[0.98155344]\n"
     ]
    }
   ],
   "source": [
    "with open(\"test.txt\", encoding=\"utf-8\") as f:\n",
    "    for line in f.readlines():\n",
    "        nline = line.replace(',', '').replace('.', '').replace('(', '').replace(')', '').replace(':', '').replace(\"\\\"\", \"\").strip().split(\" \")\n",
    "        encode = review_encode(nline)\n",
    "        encode = keras.preprocessing.sequence.pad_sequences([encode], value = word_index[\"<PAD>\"], padding = \"post\",maxlen = 250)\n",
    "        predict = model.predict(encode)\n",
    "        print(line)\n",
    "        print(encode)\n",
    "        print(predict[0])"
   ]
  }
 ],
 "metadata": {
  "kernelspec": {
   "display_name": "Python 3",
   "language": "python",
   "name": "python3"
  },
  "language_info": {
   "codemirror_mode": {
    "name": "ipython",
    "version": 3
   },
   "file_extension": ".py",
   "mimetype": "text/x-python",
   "name": "python",
   "nbconvert_exporter": "python",
   "pygments_lexer": "ipython3",
   "version": "3.7.6"
  }
 },
 "nbformat": 4,
 "nbformat_minor": 4
}
